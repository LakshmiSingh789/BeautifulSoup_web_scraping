{
  "nbformat": 4,
  "nbformat_minor": 0,
  "metadata": {
    "colab": {
      "provenance": []
    },
    "kernelspec": {
      "name": "python3",
      "display_name": "Python 3"
    },
    "language_info": {
      "name": "python"
    }
  },
  "cells": [
    {
      "cell_type": "code",
      "source": [
        "#importing necessary libraries\n",
        "import requests\n",
        "from bs4 import BeautifulSoup\n",
        "import csv\n",
        "import time\n",
        "from datetime import datetime, timedelta"
      ],
      "metadata": {
        "collapsed": true,
        "id": "caanaOs4KKFn"
      },
      "execution_count": 6,
      "outputs": []
    },
    {
      "cell_type": "code",
      "source": [
        "url=\"https://www.bbc.com/news\"\n",
        "response=requests.get(url)\n",
        "soup=BeautifulSoup(response.text,\"html.parser\")\n",
        "print(soup.prettify()[:6000])"
      ],
      "metadata": {
        "colab": {
          "base_uri": "https://localhost:8080/"
        },
        "id": "dQbDBCjzdzpg",
        "outputId": "af33b1bf-e28e-4763-c6cf-62f395960c25"
      },
      "execution_count": 7,
      "outputs": [
        {
          "output_type": "stream",
          "name": "stdout",
          "text": [
            "<!DOCTYPE html>\n",
            "<html lang=\"en-GB\">\n",
            " <head>\n",
            "  <meta charset=\"utf-8\"/>\n",
            "  <meta content=\"width=device-width\" name=\"viewport\"/>\n",
            "  <title>\n",
            "   Home - BBC News\n",
            "  </title>\n",
            "  <meta content=\"Home - BBC News\" property=\"og:title\"/>\n",
            "  <meta content=\"Home - BBC News\" name=\"twitter:title\"/>\n",
            "  <meta content=\"Visit BBC News for up-to-the-minute news, breaking news, video, audio and feature stories. BBC News provides trusted World and UK news as well as local and regional perspectives. Also entertainment, business, science, technology and health news.\" name=\"description\"/>\n",
            "  <meta content=\"Visit BBC News for up-to-the-minute news, breaking news, video, audio and feature stories. BBC News provides trusted World and UK news as well as local and regional perspectives. Also entertainment, business, science, technology and health news.\" property=\"og:description\"/>\n",
            "  <meta content=\"Visit BBC News for up-to-the-minute news, breaking news, video, audio and feature stories. BBC News provides trusted World and UK news as well as local and regional perspectives. Also entertainment, business, science, technology and health news.\" name=\"twitter:description\"/>\n",
            "  <meta content=\"#da532c\" name=\"msapplication-TileColor\"/>\n",
            "  <meta content=\"#ffffff\" name=\"theme-color\"/>\n",
            "  <meta content=\"NOODP, NOYDIR\" name=\"robots\"/>\n",
            "  <meta content=\"app-id=364147881, app-argument=https://www.bbc.com/news\" name=\"apple-itunes-app\"/>\n",
            "  <link href=\"/bbcx/apple-touch-icon.png\" rel=\"apple-touch-icon\" sizes=\"180x180\"/>\n",
            "  <link href=\"/bbcx/favicon-32x32.png\" rel=\"icon\" sizes=\"32x32\" type=\"image/png\"/>\n",
            "  <link href=\"/bbcx/favicon-16x16.png\" rel=\"icon\" sizes=\"16x16\" type=\"image/png\"/>\n",
            "  <link href=\"/bbcx/favicon.ico\" rel=\"alternate icon\"/>\n",
            "  <link href=\"/bbcx/site.webmanifest\" rel=\"manifest\"/>\n",
            "  <link color=\"#000000\" href=\"/bbcx/safari-pinned-tab.svg\" rel=\"mask-icon\"/>\n",
            "  <link href=\"https://www.bbc.com/news\" rel=\"canonical\"/>\n",
            "  <link data-testid=\"en-hreflang-tag\" href=\"https://www.bbc.com/news\" hreflang=\"en\" rel=\"alternate\"/>\n",
            "  <link data-testid=\"en-gb-hreflang-tag\" href=\"https://www.bbc.co.uk/news\" hreflang=\"en-gb\" rel=\"alternate\"/>\n",
            "  <meta content=\"2.12.0+20\" name=\"version\"/>\n",
            "  <script type=\"application/ld+json\">\n",
            "   {\"@context\":\"http://schema.org\",\"@type\":\"WebPage\",\"description\":\"Visit BBC News for up-to-the-minute news, breaking news, video, audio and feature stories. BBC News provides trusted World and UK news as well as local and regional perspectives. Also entertainment, business, science, technology and health news.\",\"url\":\"https://www.bbc.com/news\",\"mainEntityOfPage\":\"https://www.bbc.com/news\",\"publisher\":{\"@type\":\"NewsMediaOrganization\",\"name\":\"BBC News\",\"logo\":\"https://m.files.bbci.co.uk/modules/bbc-morph-news-waf-page-meta/5.3.0/bbc_news_logo.png\",\"publishingPrinciples\":\"https://www.bbc.co.uk/news/help-41670342\"},\"name\":\"Home - BBC News\"}\n",
            "  </script>\n",
            "  <meta content=\"bbcx://news\" property=\"al:ios:url\"/>\n",
            "  <meta content=\"364147881\" property=\"al:ios:app_store_id\"/>\n",
            "  <meta content=\"BBC: World News &amp; Stories\" property=\"al:ios:app_name\"/>\n",
            "  <meta content=\"bbcx://news\" property=\"al:android:url\"/>\n",
            "  <meta content=\"BBC: World News &amp; Stories\" property=\"al:android:app_name\"/>\n",
            "  <meta content=\"bbc.mobile.news.ww\" property=\"al:android:package\"/>\n",
            "  <meta content=\"https://bbc.com/news\" property=\"al:web:url\"/>\n",
            "  <meta content=\"30\" name=\"next-head-count\"/>\n",
            "  <script async=\"\" data-nscript=\"beforeInteractive\" id=\"inline-dotcom\">\n",
            "   window.dotcom = window.dotcom || { cmd: [] };\n",
            "  window.dotcom.ads = window.dotcom.ads || {\n",
            "   resolves: {enabled: [], getAdTag: []},\n",
            "   enabled: () => new Promise(r => window.dotcom.ads.resolves.enabled.push(r)),\n",
            "   getAdTag: () => new Promise(r => window.dotcom.ads.resolves.getAdTag.push(r))\n",
            "  };\n",
            "  setTimeout(() => {\n",
            "    if(window.dotcom.ads.resolves){\n",
            "      window.dotcom.ads.resolves.enabled.forEach(r => r(false));\n",
            "      window.dotcom.ads.resolves.getAdTag.forEach(r => r(\"\"));\n",
            "      window.dotcom.ads.enabled = () => new Promise(r => r(false));\n",
            "      window.dotcom.ads.getAdTag = () => new Promise(r => r(\"\"));\n",
            "      console.error(\"NGAS load timeout\");\n",
            "    }\n",
            "  }, 5000)\n",
            "  </script>\n",
            "  <script async=\"\" data-nscript=\"beforeInteractive\" id=\"inline-analytics\">\n",
            "   window.analytics = window.analytics || { echoClient: null, buffer:[], checkForAdBlocker:true, data: null };\n",
            "  </script>\n",
            "  <script async=\"\" data-nscript=\"beforeInteractive\" id=\"inline-dotcom-config\">\n",
            "   window.dotcom = window.dotcom || { cmd: [] }; window.dotcomConfig = {\"gptRequested\":true,\"pageAds\":true,\"playerAds\":true,\"xPlatform\":true,\"allowAdvertising\":true,\"opsFlags\":{\"Metadata\":{\"FlagpoleBucketPrefix\":\"\",\"FlagpoleDate\":\"31 Jul 24 08:19 UTC\",\"FlagpoleFileID\":\"gn-flagpoles/gnlops\",\"FlagpoleIdentity\":\"gnlops\",\"FlagpoleSystem\":\"gn-flagpoles\",\"Guid\":\"8dfe60a2-4322-411c-8a71-04dc7084fec4\",\"urn\":\"urn:pubpipe:gnflagpoles:gnlops:gn-flagpoles/gnlops\"},\"Urn\":\"urn:pubpipe:gnflagpoles:gnlops:gn-flagpoles/gnlops\",\"adverts\":\"true\",\"analytics\":\"true\",\"wwhp_feeds\":\"true\",\"wwhp_obituary\":\"false\",\"xproxy\":\"false\",\"zephr\":\"false\",\"zephrx\":\"true\"},\"ngasFlags\":{\"Metadata\":{\"FlagpoleBucketPrefix\":\"\",\"FlagpoleDate\":\"28 Nov 24 14:39 UTC\",\"FlagpoleFileID\":\"gn-flagpoles/ngas\",\"FlagpoleIdentity\":\"ngas\",\"FlagpoleSystem\":\"gn-flagpoles\",\"Guid\":\"e229d810-0dcd-45f0-a61b-ff6a4178aff7\",\"urn\":\"urn:pubpipe:gnflagpoles:ngas:gn-flagpoles/ngas\"},\"Urn\":\"urn:pubpipe:gnflagpoles:ngas:gn-flagpoles/ngas\",\"aps\":\"true\",\"banner\":\"true\",\"beta\":\"true\",\"brandmetrics\":\"true\",\"cmp\":\"true\",\"comscoremmx\":\"true\",\"comscoremmxeea\":\"true\",\"content_rec\":\"true\",\"covatic\":\"true\",\"covatic_admeta\":\"true\",\"doubleverify\":\"true\",\"fedid\":\"true\",\"fedid_all\":\"true\",\"fedid_google\":\"true\",\"fedid_permutive\":\"true\",\"fedid_piano\":\"true\",\"fedid_signed\":\"true\",\"fpd\":\"true\",\"gpp\":\"true\",\"grapeshot\":\"false\",\"ias_publisher\":\"false\",\"load_gpt\":\"true\",\"name\":\"ngas\",\"native_size\":\"true\",\"newadunit\":\"true\",\"newkeys\":\"true\",\"nielsen\":\"true\",\"ozone\":\"true\",\"permutive\":\"true\",\"permutive_cohort\":\"true\",\"piano\":\"true\",\"speedcurve\":\"true\",\"spo\":\"true\n"
          ]
        }
      ]
    },
    {
      "cell_type": "code",
      "source": [
        "news = []\n",
        "\n",
        "news_sections = soup.find_all('article', class_='sc-9636e898-0 dYtsiK')\n",
        "\n",
        "for section in news_sections:\n",
        "    articles = section.find_all('div', class_='sc-b8778340-3 gxEarx')\n",
        "    for article in articles:\n",
        "        title_element = article.find('h2', class_='sc-8ea7699c-3 dhclWg')  #extract headlines\n",
        "        title = title_element.text.strip() if title_element else \"NA\"\n",
        "\n",
        "        category_element = article.find('span', class_='sc-6fba5bd4-2 bHkTZK')  #extract categories like name of the countries\n",
        "        category = category_element.text.strip() if category_element else \"NA\"\n",
        "\n",
        "        date_element = article.find('span', class_='sc-6fba5bd4-1 efYorw') #extract time\n",
        "        date = date_element.text.strip() if date_element else 'NA'\n",
        "\n",
        "        # Parse relative time format\n",
        "        if date != 'NA':\n",
        "            if 'hrs ago' in date:\n",
        "                hrs_ago = int(date.split(' ')[0])\n",
        "                real_time = datetime.now() - timedelta(hours=hrs_ago)\n",
        "                real_time = real_time.strftime(\"%H:%M:%S\")\n",
        "            elif 'mins ago' in date:\n",
        "                mins_ago = int(date.split(' ')[0])\n",
        "                real_time = datetime.now() - timedelta(minutes=mins_ago)\n",
        "                real_time = real_time.strftime(\"%H:%M:%S\")\n",
        "            else:\n",
        "                real_time = 'NA'\n",
        "        else:\n",
        "            real_time = 'NA'\n",
        "\n",
        "        news.append({\n",
        "            'Headlines': title,\n",
        "            'Category': category,\n",
        "            'Time': real_time\n",
        "        })\n",
        "\n",
        "for news_item in news:\n",
        "    print(news_item)"
      ],
      "metadata": {
        "colab": {
          "base_uri": "https://localhost:8080/"
        },
        "collapsed": true,
        "id": "VXTYrtqhKt7C",
        "outputId": "9de64ad8-f32e-4cda-e8b0-f0450c7ff7e7"
      },
      "execution_count": 8,
      "outputs": [
        {
          "output_type": "stream",
          "name": "stdout",
          "text": [
            "{'Headlines': 'BBC in Umayyad Square amid deafening gunfire', 'Category': 'Middle East', 'Time': '13:12:15'}\n",
            "{'Headlines': 'Watch: Presidential palace stormed in Damascus', 'Category': 'Middle East', 'Time': '12:49:15'}\n",
            "{'Headlines': 'Watch: BBC reports from inside Damascus', 'Category': 'Middle East', 'Time': '09:47:15'}\n",
            "{'Headlines': 'Where is Bashar al-Assad?', 'Category': 'Middle East', 'Time': '11:47:15'}\n",
            "{'Headlines': 'Who are the rebels in Syria?', 'Category': 'Middle East', 'Time': '10:47:15'}\n",
            "{'Headlines': 'New images released as hunt for New York shooter continues', 'Category': 'US & Canada', 'Time': '08:47:15'}\n",
            "{'Headlines': \"Prithvi Shaw: The rise and fade of Indian cricket's wonder boy\", 'Category': 'Asia', 'Time': '00:47:15'}\n",
            "{'Headlines': 'New images released as hunt for New York shooter continues', 'Category': 'US & Canada', 'Time': '08:47:15'}\n",
            "{'Headlines': 'Ghana vice-president accepts defeat in presidential election', 'Category': 'Africa', 'Time': '12:50:15'}\n",
            "{'Headlines': 'On secret military island, a mother strives to raise her children normally', 'Category': 'UK', 'Time': '00:47:15'}\n",
            "{'Headlines': 'Notre-Dame: World leaders join Macron for cathedral reopening', 'Category': 'Europe', 'Time': '21:47:15'}\n",
            "{'Headlines': \"Prithvi Shaw: The rise and fade of Indian cricket's wonder boy\", 'Category': 'Asia', 'Time': '00:47:15'}\n",
            "{'Headlines': \"'I booked The Killers as a favour to play in a room above a pub'\", 'Category': 'Lincolnshire', 'Time': '00:47:15'}\n",
            "{'Headlines': \"Your pictures on the theme of 'fluids'\", 'Category': 'In Pictures', 'Time': '00:47:15'}\n",
            "{'Headlines': \"'I booked The Killers as a favour to play in a room above a pub'\", 'Category': 'Lincolnshire', 'Time': '00:47:15'}\n",
            "{'Headlines': 'How a uranium mine became a pawn in the row between Niger and France', 'Category': 'World', 'Time': '01:47:15'}\n",
            "{'Headlines': \"'It’s an old person's drink.' Is Britain's love for tea cooling off?\", 'Category': 'Business', 'Time': '00:47:15'}\n",
            "{'Headlines': \"Your pictures on the theme of 'fluids'\", 'Category': 'In Pictures', 'Time': '00:47:15'}\n",
            "{'Headlines': 'More than 150 people rescued from abandoned gold mine in South Africa', 'Category': 'Africa', 'Time': 'NA'}\n",
            "{'Headlines': 'Moment Georgian press attacked by masked men', 'Category': 'Europe', 'Time': '00:47:15'}\n",
            "{'Headlines': \"'Are we about to repeat history?': Martial law's traumatic legacy in South Korea\", 'Category': 'Asia', 'Time': 'NA'}\n",
            "{'Headlines': 'The house with the 24,000 light Christmas display', 'Category': 'Edinburgh, Fife & East', 'Time': 'NA'}\n",
            "{'Headlines': 'More than 150 people rescued from abandoned gold mine in South Africa', 'Category': 'Africa', 'Time': 'NA'}\n",
            "{'Headlines': 'The house with the 24,000 light Christmas display', 'Category': 'Edinburgh, Fife & East', 'Time': 'NA'}\n",
            "{'Headlines': 'Premier League: Build-up to four games as Fulham host Arsenal', 'Category': 'NA', 'Time': 'NA'}\n",
            "{'Headlines': 'Champions Cup: Leicester lead Bordeaux in five-try first half - radio & text', 'Category': 'NA', 'Time': 'NA'}\n",
            "{'Headlines': 'Premier League: Build-up to four games as Fulham host Arsenal', 'Category': 'NA', 'Time': 'NA'}\n",
            "{'Headlines': 'WSL: Man Utd hit four against Liverpool', 'Category': 'NA', 'Time': 'NA'}\n",
            "{'Headlines': \"Tavernier stunner extends Rangers' lead against County - radio & text\", 'Category': 'NA', 'Time': 'NA'}\n",
            "{'Headlines': 'Champions Cup: Leicester lead Bordeaux in five-try first half - radio & text', 'Category': 'NA', 'Time': 'NA'}\n"
          ]
        }
      ]
    },
    {
      "cell_type": "code",
      "source": [
        "import pandas as pd\n",
        "df = pd.DataFrame(news)\n",
        "df.to_csv('bbc_news.csv', index=False)\n",
        "print(df.head())"
      ],
      "metadata": {
        "colab": {
          "base_uri": "https://localhost:8080/"
        },
        "id": "JewkFrMBLD0S",
        "outputId": "46bfb7c9-2662-42eb-c326-10afb369fa3f"
      },
      "execution_count": 9,
      "outputs": [
        {
          "output_type": "stream",
          "name": "stdout",
          "text": [
            "                                        Headlines     Category      Time\n",
            "0    BBC in Umayyad Square amid deafening gunfire  Middle East  13:12:15\n",
            "1  Watch: Presidential palace stormed in Damascus  Middle East  12:49:15\n",
            "2         Watch: BBC reports from inside Damascus  Middle East  09:47:15\n",
            "3                       Where is Bashar al-Assad?  Middle East  11:47:15\n",
            "4                    Who are the rebels in Syria?  Middle East  10:47:15\n"
          ]
        }
      ]
    },
    {
      "cell_type": "code",
      "source": [
        "from google.colab import files\n",
        "#download the csv file\n",
        "files.download('bbc_news.csv')"
      ],
      "metadata": {
        "colab": {
          "base_uri": "https://localhost:8080/",
          "height": 17
        },
        "id": "JKyLhyd_J1RF",
        "outputId": "3dbca818-0882-46e1-990b-ecc57e210d11"
      },
      "execution_count": 10,
      "outputs": [
        {
          "output_type": "display_data",
          "data": {
            "text/plain": [
              "<IPython.core.display.Javascript object>"
            ],
            "application/javascript": [
              "\n",
              "    async function download(id, filename, size) {\n",
              "      if (!google.colab.kernel.accessAllowed) {\n",
              "        return;\n",
              "      }\n",
              "      const div = document.createElement('div');\n",
              "      const label = document.createElement('label');\n",
              "      label.textContent = `Downloading \"${filename}\": `;\n",
              "      div.appendChild(label);\n",
              "      const progress = document.createElement('progress');\n",
              "      progress.max = size;\n",
              "      div.appendChild(progress);\n",
              "      document.body.appendChild(div);\n",
              "\n",
              "      const buffers = [];\n",
              "      let downloaded = 0;\n",
              "\n",
              "      const channel = await google.colab.kernel.comms.open(id);\n",
              "      // Send a message to notify the kernel that we're ready.\n",
              "      channel.send({})\n",
              "\n",
              "      for await (const message of channel.messages) {\n",
              "        // Send a message to notify the kernel that we're ready.\n",
              "        channel.send({})\n",
              "        if (message.buffers) {\n",
              "          for (const buffer of message.buffers) {\n",
              "            buffers.push(buffer);\n",
              "            downloaded += buffer.byteLength;\n",
              "            progress.value = downloaded;\n",
              "          }\n",
              "        }\n",
              "      }\n",
              "      const blob = new Blob(buffers, {type: 'application/binary'});\n",
              "      const a = document.createElement('a');\n",
              "      a.href = window.URL.createObjectURL(blob);\n",
              "      a.download = filename;\n",
              "      div.appendChild(a);\n",
              "      a.click();\n",
              "      div.remove();\n",
              "    }\n",
              "  "
            ]
          },
          "metadata": {}
        },
        {
          "output_type": "display_data",
          "data": {
            "text/plain": [
              "<IPython.core.display.Javascript object>"
            ],
            "application/javascript": [
              "download(\"download_2e5f44c0-b959-44f7-81c7-c7a2b5cedd27\", \"bbc_news.csv\", 2235)"
            ]
          },
          "metadata": {}
        }
      ]
    }
  ]
}